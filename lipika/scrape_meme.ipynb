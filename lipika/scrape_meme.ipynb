{
 "cells": [
  {
   "cell_type": "code",
   "execution_count": 3,
   "metadata": {},
   "outputs": [
    {
     "ename": "KeyError",
     "evalue": "'alt'",
     "output_type": "error",
     "traceback": [
      "\u001b[0;31m---------------------------------------------------------------------------\u001b[0m",
      "\u001b[0;31mKeyError\u001b[0m                                  Traceback (most recent call last)",
      "\u001b[0;32m<ipython-input-3-09591ce15076>\u001b[0m in \u001b[0;36m<module>\u001b[0;34m\u001b[0m\n\u001b[1;32m     44\u001b[0m                 \u001b[0;32mfor\u001b[0m \u001b[0mIMG\u001b[0m \u001b[0;32min\u001b[0m \u001b[0mIMGS\u001b[0m\u001b[0;34m:\u001b[0m\u001b[0;34m\u001b[0m\u001b[0;34m\u001b[0m\u001b[0m\n\u001b[1;32m     45\u001b[0m                     \u001b[0;32mtry\u001b[0m\u001b[0;34m:\u001b[0m\u001b[0;34m\u001b[0m\u001b[0;34m\u001b[0m\u001b[0m\n\u001b[0;32m---> 46\u001b[0;31m                         \u001b[0mf\u001b[0m\u001b[0;34m.\u001b[0m\u001b[0mwrite\u001b[0m\u001b[0;34m(\u001b[0m\u001b[0;34m'%s\\n'\u001b[0m \u001b[0;34m%\u001b[0m \u001b[0;34m(\u001b[0m\u001b[0mIMG\u001b[0m\u001b[0;34m[\u001b[0m\u001b[0;34m'alt'\u001b[0m\u001b[0;34m]\u001b[0m\u001b[0;34m)\u001b[0m\u001b[0;34m)\u001b[0m\u001b[0;34m\u001b[0m\u001b[0;34m\u001b[0m\u001b[0m\n\u001b[0m\u001b[1;32m     47\u001b[0m                     \u001b[0;32mexcept\u001b[0m \u001b[0mUnicodeEncodeError\u001b[0m\u001b[0;34m:\u001b[0m\u001b[0;34m\u001b[0m\u001b[0;34m\u001b[0m\u001b[0m\n\u001b[1;32m     48\u001b[0m                         \u001b[0mUerrors\u001b[0m \u001b[0;34m+=\u001b[0m \u001b[0;36m1\u001b[0m\u001b[0;34m\u001b[0m\u001b[0;34m\u001b[0m\u001b[0m\n",
      "\u001b[0;32m/anaconda3/envs/109b/lib/python3.6/site-packages/bs4/element.py\u001b[0m in \u001b[0;36m__getitem__\u001b[0;34m(self, key)\u001b[0m\n\u001b[1;32m   1069\u001b[0m         \"\"\"tag[key] returns the value of the 'key' attribute for the tag,\n\u001b[1;32m   1070\u001b[0m         and throws an exception if it's not there.\"\"\"\n\u001b[0;32m-> 1071\u001b[0;31m         \u001b[0;32mreturn\u001b[0m \u001b[0mself\u001b[0m\u001b[0;34m.\u001b[0m\u001b[0mattrs\u001b[0m\u001b[0;34m[\u001b[0m\u001b[0mkey\u001b[0m\u001b[0;34m]\u001b[0m\u001b[0;34m\u001b[0m\u001b[0;34m\u001b[0m\u001b[0m\n\u001b[0m\u001b[1;32m   1072\u001b[0m \u001b[0;34m\u001b[0m\u001b[0m\n\u001b[1;32m   1073\u001b[0m     \u001b[0;32mdef\u001b[0m \u001b[0m__iter__\u001b[0m\u001b[0;34m(\u001b[0m\u001b[0mself\u001b[0m\u001b[0;34m)\u001b[0m\u001b[0;34m:\u001b[0m\u001b[0;34m\u001b[0m\u001b[0;34m\u001b[0m\u001b[0m\n",
      "\u001b[0;31mKeyError\u001b[0m: 'alt'"
     ]
    }
   ],
   "source": [
    "from __future__ import division\n",
    "from bs4 import BeautifulSoup\n",
    "import requests\n",
    "import shutil\n",
    "import os.path\n",
    "\n",
    "save_path = 'memes'\n",
    "n_captions = 14   #this number *15 is the total number of captions per template\n",
    "n_templates = 181  #this number *15 is the total number of templates\n",
    "Uerrors = 0\n",
    "\n",
    "for i in range(1,n_templates):\n",
    "    if i == 1:\n",
    "        url = 'https://memegenerator.net/memes/popular/alltime'\n",
    "    else:\n",
    "        url = 'https://memegenerator.net/memes/popular/alltime/page/' + str(i)\n",
    "\n",
    "    r = requests.get(url)\n",
    "    soup = BeautifulSoup(r.text,'html.parser')\n",
    "    chars = soup.find_all(class_='char-img')\n",
    "    links = [char.find('a') for char in chars]\n",
    "    imgs = [char.find('impo;g') for char in chars]\n",
    "    assert len(links) == len(imgs)\n",
    "    for j,img in enumerate(imgs):\n",
    "        img_url = img['src']\n",
    "        response = requests.get(img_url, stream=True)\n",
    "        name_of_file = img_url.split('/')[-1]\n",
    "        completeName = os.path.join(save_path, name_of_file)\n",
    "        with open(completeName,'wb') as out_file:\n",
    "            shutil.copyfileobj(response.raw, out_file)\n",
    "        del response\n",
    "\n",
    "        for k in range(1,n_captions):\n",
    "            if k == 1:\n",
    "                URL = 'https://memegenerator.net' + links[j]['href']\n",
    "            else:\n",
    "                URL = 'https://memegenerator.net' + links[j]['href'] + '/images/popular/alltime/page/' + str(k)\n",
    "\n",
    "            R = requests.get(URL)\n",
    "            SOUP = BeautifulSoup(R.text,'html.parser')\n",
    "            CHARS = SOUP.find_all(class_='char-img')\n",
    "            IMGS = [char.find('img') for char in CHARS]\n",
    "            with open('Captions.txt', 'a') as f:\n",
    "                for IMG in IMGS:\n",
    "                    try:\n",
    "                        f.write('%s\\n' % (IMG['alt']))\n",
    "                    except UnicodeEncodeError:\n",
    "                        Uerrors += 1\n",
    "                        pass\n",
    "    if i % 10 == 0:\n",
    "        print('<'+'='*10+'>')\n",
    "        print(i)\n",
    "        print(Uerrors)\n",
    "\n",
    "\n",
    "\n",
    "URL = 'https://memegenerator.net' + links[0]['href']\n",
    "R = requests.get(URL)\n",
    "SOUP = BeautifulSoup(R.text,'html.parser')\n",
    "CHARS = SOUP.find_all(class_='char-img')\n",
    "IMGS = [char.find('img') for char in CHARS]\n",
    "print(IMGS[1]['alt'])\n",
    "\n",
    "\n",
    "img_url = imgs[0]['src']\n",
    "response = requests.get(img_url, stream=True)\n",
    "name_of_file = img_url.split('/')[-1]\n",
    "completeName = os.path.join(save_path, name_of_file)\n",
    "with open(completeName,'wb') as out_file:\n",
    "    shutil.copyfileobj(response.raw, out_file)\n",
    "del response"
   ]
  },
  {
   "cell_type": "code",
   "execution_count": null,
   "metadata": {},
   "outputs": [],
   "source": []
  }
 ],
 "metadata": {
  "kernelspec": {
   "display_name": "Python 3",
   "language": "python",
   "name": "python3"
  },
  "language_info": {
   "codemirror_mode": {
    "name": "ipython",
    "version": 3
   },
   "file_extension": ".py",
   "mimetype": "text/x-python",
   "name": "python",
   "nbconvert_exporter": "python",
   "pygments_lexer": "ipython3",
   "version": "3.6.7"
  }
 },
 "nbformat": 4,
 "nbformat_minor": 2
}
