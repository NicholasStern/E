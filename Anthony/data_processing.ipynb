{
 "cells": [
  {
   "cell_type": "markdown",
   "metadata": {},
   "source": [
    "# 0. Set up"
   ]
  },
  {
   "cell_type": "code",
   "execution_count": 1,
   "metadata": {},
   "outputs": [],
   "source": [
    "import numpy as np\n",
    "import pandas as pd\n",
    "import matplotlib.pyplot as plt\n",
    "from nltk.tokenize import RegexpTokenizer\n",
    "from collections import Counter\n",
    "from itertools import chain\n",
    "import pickle\n",
    "from pickle_utils import pickle_load, pickle_dump\n",
    "from loadGlove import loadGloveModel\n",
    "import cv2\n",
    "import os"
   ]
  },
  {
   "cell_type": "code",
   "execution_count": 2,
   "metadata": {},
   "outputs": [
    {
     "name": "stdout",
     "output_type": "stream",
     "text": [
      "Skipping bad lines - return to this later\n",
      "(155392, 3)\n"
     ]
    },
    {
     "data": {
      "text/html": [
       "<div>\n",
       "<style scoped>\n",
       "    .dataframe tbody tr th:only-of-type {\n",
       "        vertical-align: middle;\n",
       "    }\n",
       "\n",
       "    .dataframe tbody tr th {\n",
       "        vertical-align: top;\n",
       "    }\n",
       "\n",
       "    .dataframe thead th {\n",
       "        text-align: right;\n",
       "    }\n",
       "</style>\n",
       "<table border=\"1\" class=\"dataframe\">\n",
       "  <thead>\n",
       "    <tr style=\"text-align: right;\">\n",
       "      <th></th>\n",
       "      <th>image</th>\n",
       "      <th>above_text</th>\n",
       "      <th>below_text</th>\n",
       "    </tr>\n",
       "  </thead>\n",
       "  <tbody>\n",
       "    <tr>\n",
       "      <th>54053</th>\n",
       "      <td>My Precious Gollum</td>\n",
       "      <td>Hello TARA...</td>\n",
       "      <td>HELLO PRECIOUS</td>\n",
       "    </tr>\n",
       "    <tr>\n",
       "      <th>67160</th>\n",
       "      <td>Ecstatic Michael Phelps</td>\n",
       "      <td>tHERE'S A POT OF THE STUFF?</td>\n",
       "      <td>i LOVE POT.</td>\n",
       "    </tr>\n",
       "    <tr>\n",
       "      <th>49626</th>\n",
       "      <td>katt williams shocked</td>\n",
       "      <td>What</td>\n",
       "      <td>you actually thought you were getting rp?</td>\n",
       "    </tr>\n",
       "    <tr>\n",
       "      <th>9727</th>\n",
       "      <td>Okay Guy</td>\n",
       "      <td>TOOK AN ARROW TO THE KNEE</td>\n",
       "      <td>OKAY..</td>\n",
       "    </tr>\n",
       "    <tr>\n",
       "      <th>22047</th>\n",
       "      <td>Rich Men Laughing</td>\n",
       "      <td>and then we told them</td>\n",
       "      <td>their health insurance premiums wouldnt go up</td>\n",
       "    </tr>\n",
       "    <tr>\n",
       "      <th>150193</th>\n",
       "      <td>kim jong un</td>\n",
       "      <td>they see me rulin'</td>\n",
       "      <td>they hatin'</td>\n",
       "    </tr>\n",
       "    <tr>\n",
       "      <th>121915</th>\n",
       "      <td>The Olympic Queen</td>\n",
       "      <td>vodka</td>\n",
       "      <td>NaN</td>\n",
       "    </tr>\n",
       "    <tr>\n",
       "      <th>132328</th>\n",
       "      <td>Paperclip</td>\n",
       "      <td>it looks like you're having trouble</td>\n",
       "      <td>fapping to this meme</td>\n",
       "    </tr>\n",
       "    <tr>\n",
       "      <th>120444</th>\n",
       "      <td>Honey BooBoo</td>\n",
       "      <td>happy birthday</td>\n",
       "      <td>ali boo boo</td>\n",
       "    </tr>\n",
       "    <tr>\n",
       "      <th>15655</th>\n",
       "      <td>Not sure if troll</td>\n",
       "      <td>not sure if nicki minaj</td>\n",
       "      <td>or a mutant from mortal combat</td>\n",
       "    </tr>\n",
       "  </tbody>\n",
       "</table>\n",
       "</div>"
      ],
      "text/plain": [
       "                          image                           above_text  \\\n",
       "54053        My Precious Gollum                        Hello TARA...   \n",
       "67160   Ecstatic Michael Phelps          tHERE'S A POT OF THE STUFF?   \n",
       "49626     katt williams shocked                                 What   \n",
       "9727                   Okay Guy            TOOK AN ARROW TO THE KNEE   \n",
       "22047         Rich Men Laughing                and then we told them   \n",
       "150193              kim jong un                   they see me rulin'   \n",
       "121915        The Olympic Queen                                vodka   \n",
       "132328                Paperclip  it looks like you're having trouble   \n",
       "120444             Honey BooBoo                       happy birthday   \n",
       "15655         Not sure if troll              not sure if nicki minaj   \n",
       "\n",
       "                                           below_text  \n",
       "54053                                  HELLO PRECIOUS  \n",
       "67160                                     i LOVE POT.  \n",
       "49626       you actually thought you were getting rp?  \n",
       "9727                                           OKAY..  \n",
       "22047   their health insurance premiums wouldnt go up  \n",
       "150193                                    they hatin'  \n",
       "121915                                            NaN  \n",
       "132328                           fapping to this meme  \n",
       "120444                                    ali boo boo  \n",
       "15655                  or a mutant from mortal combat  "
      ]
     },
     "execution_count": 2,
     "metadata": {},
     "output_type": "execute_result"
    }
   ],
   "source": [
    "captions = pd.read_csv(\"captions.csv\", error_bad_lines=False, warn_bad_lines=False)\n",
    "print(\"Skipping bad lines - return to this later\")\n",
    "print(captions.shape)\n",
    "captions.sample(10, random_state=22)"
   ]
  },
  {
   "cell_type": "code",
   "execution_count": 44,
   "metadata": {},
   "outputs": [],
   "source": [
    "# random_labels = np.random.choice(captions.image.unique(), 10)\n",
    "# random_labels"
   ]
  },
  {
   "cell_type": "markdown",
   "metadata": {},
   "source": [
    "# 1. Load GloVe and save objects for later use"
   ]
  },
  {
   "cell_type": "code",
   "execution_count": 3,
   "metadata": {},
   "outputs": [],
   "source": [
    "glove_objs = loadGloveModel(\"glove.txt\")"
   ]
  },
  {
   "cell_type": "code",
   "execution_count": 4,
   "metadata": {},
   "outputs": [],
   "source": [
    "glove_index_dict = glove_objs[0]\n",
    "glove_embedding_weights = glove_objs[1]"
   ]
  },
  {
   "cell_type": "code",
   "execution_count": 5,
   "metadata": {},
   "outputs": [
    {
     "data": {
      "text/plain": [
       "(1917494, (1917494, 300))"
      ]
     },
     "execution_count": 5,
     "metadata": {},
     "output_type": "execute_result"
    }
   ],
   "source": [
    "len(glove_index_dict), glove_embedding_weights.shape"
   ]
  },
  {
   "cell_type": "code",
   "execution_count": 6,
   "metadata": {},
   "outputs": [],
   "source": [
    "# pickle_dump(glove_objs, \"glove_objs.pkl\")\n",
    "# glove_objs = pickle_load(\"glove_objs.pkl\")"
   ]
  },
  {
   "cell_type": "markdown",
   "metadata": {},
   "source": [
    "# 2. Clean captions and labels"
   ]
  },
  {
   "cell_type": "markdown",
   "metadata": {},
   "source": [
    "### a. Remove where there are NaNs in the captions or labels"
   ]
  },
  {
   "cell_type": "code",
   "execution_count": 7,
   "metadata": {},
   "outputs": [
    {
     "data": {
      "text/plain": [
       "image           13\n",
       "above_text    6137\n",
       "below_text    7199\n",
       "dtype: int64"
      ]
     },
     "execution_count": 7,
     "metadata": {},
     "output_type": "execute_result"
    }
   ],
   "source": [
    "np.sum(pd.isna(captions))"
   ]
  },
  {
   "cell_type": "code",
   "execution_count": 8,
   "metadata": {},
   "outputs": [
    {
     "data": {
      "text/html": [
       "<div>\n",
       "<style scoped>\n",
       "    .dataframe tbody tr th:only-of-type {\n",
       "        vertical-align: middle;\n",
       "    }\n",
       "\n",
       "    .dataframe tbody tr th {\n",
       "        vertical-align: top;\n",
       "    }\n",
       "\n",
       "    .dataframe thead th {\n",
       "        text-align: right;\n",
       "    }\n",
       "</style>\n",
       "<table border=\"1\" class=\"dataframe\">\n",
       "  <thead>\n",
       "    <tr style=\"text-align: right;\">\n",
       "      <th></th>\n",
       "      <th>image</th>\n",
       "      <th>above_text</th>\n",
       "      <th>below_text</th>\n",
       "    </tr>\n",
       "  </thead>\n",
       "  <tbody>\n",
       "    <tr>\n",
       "      <th>18546</th>\n",
       "      <td>NaN</td>\n",
       "      <td>several people get up and leave as they can se...</td>\n",
       "      <td>NaN</td>\n",
       "    </tr>\n",
       "    <tr>\n",
       "      <th>43899</th>\n",
       "      <td>NaN</td>\n",
       "      <td>teacher is even later than you</td>\n",
       "      <td>NaN</td>\n",
       "    </tr>\n",
       "    <tr>\n",
       "      <th>57525</th>\n",
       "      <td>NaN</td>\n",
       "      <td>Ekki málið :)</td>\n",
       "      <td>NaN</td>\n",
       "    </tr>\n",
       "    <tr>\n",
       "      <th>100719</th>\n",
       "      <td>NaN</td>\n",
       "      <td>Ert þú starfsmaður þarna eða eigandi?</td>\n",
       "      <td>NaN</td>\n",
       "    </tr>\n",
       "    <tr>\n",
       "      <th>100723</th>\n",
       "      <td>NaN</td>\n",
       "      <td>uppiskorpi!!!</td>\n",
       "      <td>NaN</td>\n",
       "    </tr>\n",
       "    <tr>\n",
       "      <th>100725</th>\n",
       "      <td>NaN</td>\n",
       "      <td>Eða bara eldisfiskur. LOL.</td>\n",
       "      <td>NaN</td>\n",
       "    </tr>\n",
       "    <tr>\n",
       "      <th>100728</th>\n",
       "      <td>NaN</td>\n",
       "      <td>Takk kærlega fyrir þetta :)</td>\n",
       "      <td>NaN</td>\n",
       "    </tr>\n",
       "    <tr>\n",
       "      <th>105241</th>\n",
       "      <td>NaN</td>\n",
       "      <td>makes us strong</td>\n",
       "      <td>NaN</td>\n",
       "    </tr>\n",
       "    <tr>\n",
       "      <th>105243</th>\n",
       "      <td>NaN</td>\n",
       "      <td>makes us strong</td>\n",
       "      <td>NaN</td>\n",
       "    </tr>\n",
       "    <tr>\n",
       "      <th>114690</th>\n",
       "      <td>NaN</td>\n",
       "      <td>Nei þá nærðu í rauðvín</td>\n",
       "      <td>NaN</td>\n",
       "    </tr>\n",
       "    <tr>\n",
       "      <th>114721</th>\n",
       "      <td>NaN</td>\n",
       "      <td>merkileg blanda alveg;)</td>\n",
       "      <td>NaN</td>\n",
       "    </tr>\n",
       "    <tr>\n",
       "      <th>115828</th>\n",
       "      <td>NaN</td>\n",
       "      <td>Fannst þetta bara krúttleg mynd =)</td>\n",
       "      <td>NaN</td>\n",
       "    </tr>\n",
       "    <tr>\n",
       "      <th>132127</th>\n",
       "      <td>NaN</td>\n",
       "      <td>I NEVER ASK FOR THIS</td>\n",
       "      <td>NaN</td>\n",
       "    </tr>\n",
       "  </tbody>\n",
       "</table>\n",
       "</div>"
      ],
      "text/plain": [
       "       image                                         above_text below_text\n",
       "18546    NaN  several people get up and leave as they can se...        NaN\n",
       "43899    NaN                     teacher is even later than you        NaN\n",
       "57525    NaN                                      Ekki málið :)        NaN\n",
       "100719   NaN              Ert þú starfsmaður þarna eða eigandi?        NaN\n",
       "100723   NaN                                      uppiskorpi!!!        NaN\n",
       "100725   NaN                         Eða bara eldisfiskur. LOL.        NaN\n",
       "100728   NaN                        Takk kærlega fyrir þetta :)        NaN\n",
       "105241   NaN                                    makes us strong        NaN\n",
       "105243   NaN                                    makes us strong        NaN\n",
       "114690   NaN                             Nei þá nærðu í rauðvín        NaN\n",
       "114721   NaN                            merkileg blanda alveg;)        NaN\n",
       "115828   NaN                 Fannst þetta bara krúttleg mynd =)        NaN\n",
       "132127   NaN                               I NEVER ASK FOR THIS        NaN"
      ]
     },
     "execution_count": 8,
     "metadata": {},
     "output_type": "execute_result"
    }
   ],
   "source": [
    "captions.iloc[np.where(pd.isna(captions.image))]"
   ]
  },
  {
   "cell_type": "code",
   "execution_count": 9,
   "metadata": {},
   "outputs": [],
   "source": [
    "captions = captions[pd.notnull(captions.image)]\n",
    "captions = captions.replace(np.nan, '', regex=True)"
   ]
  },
  {
   "cell_type": "code",
   "execution_count": 10,
   "metadata": {},
   "outputs": [
    {
     "data": {
      "text/plain": [
       "image         0\n",
       "above_text    0\n",
       "below_text    0\n",
       "dtype: int64"
      ]
     },
     "execution_count": 10,
     "metadata": {},
     "output_type": "execute_result"
    }
   ],
   "source": [
    "np.sum(pd.isna(captions))"
   ]
  },
  {
   "cell_type": "markdown",
   "metadata": {},
   "source": [
    "### b. Everything to lower"
   ]
  },
  {
   "cell_type": "code",
   "execution_count": 11,
   "metadata": {},
   "outputs": [],
   "source": [
    "captions['image'] = captions['image'].str.lower()\n",
    "captions['above_text'] = captions['above_text'].str.lower()\n",
    "captions['below_text'] = captions['below_text'].str.lower()"
   ]
  },
  {
   "cell_type": "code",
   "execution_count": 12,
   "metadata": {},
   "outputs": [
    {
     "data": {
      "text/html": [
       "<div>\n",
       "<style scoped>\n",
       "    .dataframe tbody tr th:only-of-type {\n",
       "        vertical-align: middle;\n",
       "    }\n",
       "\n",
       "    .dataframe tbody tr th {\n",
       "        vertical-align: top;\n",
       "    }\n",
       "\n",
       "    .dataframe thead th {\n",
       "        text-align: right;\n",
       "    }\n",
       "</style>\n",
       "<table border=\"1\" class=\"dataframe\">\n",
       "  <thead>\n",
       "    <tr style=\"text-align: right;\">\n",
       "      <th></th>\n",
       "      <th>image</th>\n",
       "      <th>above_text</th>\n",
       "      <th>below_text</th>\n",
       "    </tr>\n",
       "  </thead>\n",
       "  <tbody>\n",
       "    <tr>\n",
       "      <th>148743</th>\n",
       "      <td>bender popular</td>\n",
       "      <td>todos se iban a paro</td>\n",
       "      <td>la usm solo quería ser popular</td>\n",
       "    </tr>\n",
       "    <tr>\n",
       "      <th>60086</th>\n",
       "      <td>uncle dolan pls</td>\n",
       "      <td>clovhy pls</td>\n",
       "      <td></td>\n",
       "    </tr>\n",
       "    <tr>\n",
       "      <th>81607</th>\n",
       "      <td>lawn chair blown over</td>\n",
       "      <td>cerberus earthquake 2012</td>\n",
       "      <td>we will rebuild</td>\n",
       "    </tr>\n",
       "    <tr>\n",
       "      <th>79323</th>\n",
       "      <td>pizzeria los hijos de puta</td>\n",
       "      <td>y monsters university?</td>\n",
       "      <td>para cuando monsters university?!</td>\n",
       "    </tr>\n",
       "    <tr>\n",
       "      <th>42541</th>\n",
       "      <td>liberal douche garofalo</td>\n",
       "      <td>overregulates everything into complete disfunc...</td>\n",
       "      <td>defends it as \"the new normal\"</td>\n",
       "    </tr>\n",
       "    <tr>\n",
       "      <th>6074</th>\n",
       "      <td>joker mind loss</td>\n",
       "      <td>a girl kiss a girl in public and no one bats a...</td>\n",
       "      <td>a boy kiss a boy in public and everyone loses ...</td>\n",
       "    </tr>\n",
       "    <tr>\n",
       "      <th>152361</th>\n",
       "      <td>over obsessive girlfriend</td>\n",
       "      <td>why</td>\n",
       "      <td>is sleep more important than me kim?</td>\n",
       "    </tr>\n",
       "    <tr>\n",
       "      <th>142516</th>\n",
       "      <td>tony horton</td>\n",
       "      <td>recovery week</td>\n",
       "      <td>it's a beautiful thing!</td>\n",
       "    </tr>\n",
       "    <tr>\n",
       "      <th>42871</th>\n",
       "      <td>mens wearhouse</td>\n",
       "      <td>you're gonna like how the site looks</td>\n",
       "      <td>i guarantee it</td>\n",
       "    </tr>\n",
       "    <tr>\n",
       "      <th>7923</th>\n",
       "      <td>butthurt dweller</td>\n",
       "      <td>talk shit on internet</td>\n",
       "      <td>feel superior</td>\n",
       "    </tr>\n",
       "  </tbody>\n",
       "</table>\n",
       "</div>"
      ],
      "text/plain": [
       "                             image  \\\n",
       "148743              bender popular   \n",
       "60086              uncle dolan pls   \n",
       "81607        lawn chair blown over   \n",
       "79323   pizzeria los hijos de puta   \n",
       "42541      liberal douche garofalo   \n",
       "6074               joker mind loss   \n",
       "152361   over obsessive girlfriend   \n",
       "142516                 tony horton   \n",
       "42871               mens wearhouse   \n",
       "7923              butthurt dweller   \n",
       "\n",
       "                                               above_text  \\\n",
       "148743                               todos se iban a paro   \n",
       "60086                                          clovhy pls   \n",
       "81607                            cerberus earthquake 2012   \n",
       "79323                              y monsters university?   \n",
       "42541   overregulates everything into complete disfunc...   \n",
       "6074    a girl kiss a girl in public and no one bats a...   \n",
       "152361                                                why   \n",
       "142516                                      recovery week   \n",
       "42871                you're gonna like how the site looks   \n",
       "7923                                talk shit on internet   \n",
       "\n",
       "                                               below_text  \n",
       "148743                     la usm solo quería ser popular  \n",
       "60086                                                      \n",
       "81607                                     we will rebuild  \n",
       "79323                   para cuando monsters university?!  \n",
       "42541                      defends it as \"the new normal\"  \n",
       "6074    a boy kiss a boy in public and everyone loses ...  \n",
       "152361               is sleep more important than me kim?  \n",
       "142516                            it's a beautiful thing!  \n",
       "42871                                      i guarantee it  \n",
       "7923                                        feel superior  "
      ]
     },
     "execution_count": 12,
     "metadata": {},
     "output_type": "execute_result"
    }
   ],
   "source": [
    "captions.sample(10, random_state=33)"
   ]
  },
  {
   "cell_type": "markdown",
   "metadata": {},
   "source": [
    "### c. Remove rows with non-English words"
   ]
  },
  {
   "cell_type": "code",
   "execution_count": 13,
   "metadata": {},
   "outputs": [],
   "source": [
    "# not implemented"
   ]
  },
  {
   "cell_type": "markdown",
   "metadata": {},
   "source": [
    "### d. Remove other bad rows"
   ]
  },
  {
   "cell_type": "markdown",
   "metadata": {},
   "source": [
    "Combine `above_text` and `below_text` here with appropriate breakpoint tokens. Will re-use this later to tokenize."
   ]
  },
  {
   "cell_type": "code",
   "execution_count": 14,
   "metadata": {},
   "outputs": [],
   "source": [
    "breakpoint_captions = \"<sos> \" + captions.above_text + \" <break> \" + captions.below_text + \" <eos>\""
   ]
  },
  {
   "cell_type": "code",
   "execution_count": 15,
   "metadata": {},
   "outputs": [
    {
     "name": "stdout",
     "output_type": "stream",
     "text": [
      "Deleted 1117 rows\n"
     ]
    }
   ],
   "source": [
    "# limit to caption length to under some reasonable upper bound for a meme caption\n",
    "# for many, the scrape just got messed up and appended many captions into one observation\n",
    "longinds = []\n",
    "maxcaplen = 30\n",
    "howmany = 0\n",
    "for i, cap in enumerate(breakpoint_captions):\n",
    "    splitcap = cap.split()\n",
    "    if len(splitcap) > maxcaplen:\n",
    "        longinds.append(i)\n",
    "        howmany += 1\n",
    "captions = captions.drop(captions.index[longinds])\n",
    "breakpoint_captions = breakpoint_captions.drop(breakpoint_captions.index[longinds])\n",
    "print(\"Deleted {} rows\".format(howmany))"
   ]
  },
  {
   "cell_type": "markdown",
   "metadata": {},
   "source": [
    "### e. Clean miscellaneous bad labels"
   ]
  },
  {
   "cell_type": "code",
   "execution_count": 16,
   "metadata": {},
   "outputs": [],
   "source": [
    "captions['image'] = captions['image'].str.replace(\"third\",'3rd ')\n",
    "captions['image'] = captions['image'].str.replace(\"3rd -world\",'3rd world')"
   ]
  },
  {
   "cell_type": "markdown",
   "metadata": {},
   "source": [
    "# 3. Create word mappings\n",
    "\n",
    "Structure borrowed from Harvard IACS 2019 ComputeFest [code](https://github.com/Harvard-IACS/2019-computefest/blob/master/Friday/data_preprocess.ipnb.ipynb)."
   ]
  },
  {
   "cell_type": "markdown",
   "metadata": {},
   "source": [
    "### a. Vocabulary"
   ]
  },
  {
   "cell_type": "code",
   "execution_count": 17,
   "metadata": {},
   "outputs": [],
   "source": [
    "def get_vocab(lst):\n",
    "    vocabcount = Counter(w for txt in lst for w in txt.split())\n",
    "    vocab = map(lambda x: x[0], sorted(vocabcount.items(), key=lambda x: -x[1]))\n",
    "    return list(vocab), vocabcount"
   ]
  },
  {
   "cell_type": "code",
   "execution_count": 18,
   "metadata": {},
   "outputs": [],
   "source": [
    "vocab, vocabcount = get_vocab(list(captions.image) + list(captions.above_text) + list(captions.below_text))\n"
   ]
  },
  {
   "cell_type": "markdown",
   "metadata": {},
   "source": [
    "DELETE WORDS HERE BECAUSE I HAVE VOCAB COUNT?"
   ]
  },
  {
   "cell_type": "markdown",
   "metadata": {},
   "source": [
    "### b. word2idx and idx2word mappings"
   ]
  },
  {
   "cell_type": "code",
   "execution_count": 19,
   "metadata": {},
   "outputs": [],
   "source": [
    "# Build dictionary of unknown words\n"
   ]
  },
  {
   "cell_type": "code",
   "execution_count": 20,
   "metadata": {},
   "outputs": [],
   "source": [
    "sos = 0\n",
    "eos = 1  \n",
    "br = 2\n",
    "start_idx = br+1 \n",
    "\n",
    "word2idx = {word: idx+start_idx for idx, word in enumerate(vocab)}\n",
    "word2idx['<sos>'] = sos\n",
    "word2idx['<eos>'] = eos\n",
    "word2idx['<break>'] = br\n",
    "\n",
    "idx2word = {ix: word for word, ix in word2idx.items()}"
   ]
  },
  {
   "cell_type": "markdown",
   "metadata": {},
   "source": [
    "### c. Form embedding matrix\n",
    "\n",
    "For the words in our observed data, grab the GloVe embeddings. If the word didn't exist in GloVe, initialize it with uniform weights. \n",
    "\n",
    "**Maybe I should be deleting rows where no GloVe embeddings exist?**"
   ]
  },
  {
   "cell_type": "code",
   "execution_count": 21,
   "metadata": {},
   "outputs": [],
   "source": [
    "vocab_size = len(word2idx) # could just limit this to 40k or something??\n",
    "embedding_dim = 300\n",
    "shape = (vocab_size, embedding_dim)\n",
    "scale = glove_embedding_weights.std()*np.sqrt(12)/2 \n",
    "embedding = np.random.uniform(low=-scale, high=scale, size=shape)\n",
    "\n",
    "c = 0 # c = number of items w/ GloVe embeddings?\n",
    "for i in range(vocab_size):\n",
    "    w = idx2word[i]\n",
    "    g = glove_index_dict.get(w, glove_index_dict.get(w))\n",
    "    if g is None and w.startswith('#'):\n",
    "        w = w[1:]\n",
    "        g = glove_index_dict.get(w, glove_index_dict.get(w))\n",
    "    if g is not None:\n",
    "        embedding[i,:] = glove_embedding_weights[g,:]\n",
    "        c+=1"
   ]
  },
  {
   "cell_type": "markdown",
   "metadata": {},
   "source": [
    "### d. Create final data"
   ]
  },
  {
   "cell_type": "markdown",
   "metadata": {},
   "source": [
    "These next cells create what should be the data we need. This includes right padding tokenzied captions."
   ]
  },
  {
   "cell_type": "code",
   "execution_count": 25,
   "metadata": {},
   "outputs": [],
   "source": [
    "# add padding\n",
    "def rpad(x, maxlen=maxcaplen, eos=eos):\n",
    "    assert maxlen >= 0\n",
    "    if maxlen == 0:\n",
    "        return [eos]\n",
    "    n = len(x)\n",
    "    if n > maxlen:\n",
    "        x = x[-maxlen:]\n",
    "        n = maxlen\n",
    "    return x + [eos]*(maxlen-n)"
   ]
  },
  {
   "cell_type": "code",
   "execution_count": 26,
   "metadata": {},
   "outputs": [],
   "source": [
    "tokenized_captions = [rpad([word2idx[token] for token in cap.split()]) for cap in breakpoint_captions]                  "
   ]
  },
  {
   "cell_type": "markdown",
   "metadata": {},
   "source": [
    "Sanity check."
   ]
  },
  {
   "cell_type": "code",
   "execution_count": 27,
   "metadata": {},
   "outputs": [
    {
     "name": "stdout",
     "output_type": "stream",
     "text": [
      "CAPTION:  teammates y u no revive me?\n",
      "CAPTION WITH BREAKPOINTS:  <sos> teammates <break> y u no revive me? <eos>\n",
      "TOKENIZED CAPTION:  [0, 6847, 2, 67, 64, 19, 11975, 545, 1, 1, 1, 1, 1, 1, 1, 1, 1, 1, 1, 1, 1, 1, 1, 1, 1, 1, 1, 1, 1, 1]\n",
      "CAPTION LENGTH:  30\n",
      "<sos>\n",
      "teammates\n",
      "<break>\n",
      "y\n",
      "u\n",
      "no\n",
      "revive\n",
      "me?\n",
      "<eos>\n",
      "<eos>\n",
      "<eos>\n",
      "<eos>\n",
      "<eos>\n",
      "<eos>\n",
      "<eos>\n",
      "<eos>\n",
      "<eos>\n",
      "<eos>\n",
      "<eos>\n",
      "<eos>\n",
      "<eos>\n",
      "<eos>\n",
      "<eos>\n",
      "<eos>\n",
      "<eos>\n",
      "<eos>\n",
      "<eos>\n",
      "<eos>\n",
      "<eos>\n",
      "<eos>\n"
     ]
    }
   ],
   "source": [
    "print(\"CAPTION: \", captions.above_text[24] + \" \" + captions.below_text[24])\n",
    "print(\"CAPTION WITH BREAKPOINTS: \", breakpoint_captions[24])\n",
    "print(\"TOKENIZED CAPTION: \", tokenized_captions[24])\n",
    "print(\"CAPTION LENGTH: \", len(tokenized_captions[24]))\n",
    "for token in tokenized_captions[24]:\n",
    "    print(idx2word[token])"
   ]
  },
  {
   "cell_type": "markdown",
   "metadata": {},
   "source": [
    "### e. Validate findings"
   ]
  },
  {
   "cell_type": "code",
   "execution_count": 28,
   "metadata": {
    "scrolled": false
   },
   "outputs": [
    {
     "name": "stdout",
     "output_type": "stream",
     "text": [
      "Length: 30, index: 1840 \n",
      " <sos> i'm not saying we should kill all the stupid people <break> i'm saying we should take off all the warning signs and let the problem sort itself out <eos>\n"
     ]
    },
    {
     "data": {
      "image/png": "[encoded data removed]",
      "text/plain": [
       "<Figure size 432x288 with 1 Axes>"
      ]
     },
     "metadata": {
      "needs_background": "light"
     },
     "output_type": "display_data"
    }
   ],
   "source": [
    "maxlen = 0\n",
    "longcap = \"\"\n",
    "ind = 0\n",
    "lens = []\n",
    "for i, cap in enumerate(breakpoint_captions):\n",
    "    splitcap = cap.split()\n",
    "    lens.append(len(splitcap))\n",
    "    if len(splitcap) > maxlen:\n",
    "        maxlen = len(splitcap)\n",
    "        longcap = cap\n",
    "        ind = i\n",
    "print(\"Length: {}, index: {} \\n {}\".format(maxlen, ind, longcap))\n",
    "plt.hist(lens)\n",
    "plt.xlim([0, 30])\n",
    "plt.title(\"Distribution of caption lengths\");"
   ]
  },
  {
   "cell_type": "markdown",
   "metadata": {},
   "source": [
    "### f. Save"
   ]
  },
  {
   "cell_type": "code",
   "execution_count": 29,
   "metadata": {},
   "outputs": [],
   "source": [
    "captions_copy = captions.copy()"
   ]
  },
  {
   "cell_type": "code",
   "execution_count": 30,
   "metadata": {},
   "outputs": [],
   "source": [
    "def strip_junk(x):\n",
    "    illegal = [\"?\", \"'\", \" /\", \"[\", \"]\", \".\", \"á\", \" -\", \"*\", \"/\", \"!\", \n",
    "               \"ñ\", \"í\", \"(\", \")\", \"$\", \"\\\"\", \"`\", \":\", \";\"]\n",
    "    end_illegal = [' ', '-']\n",
    "    impute_chars = ['- ',' ', '_']\n",
    "    \n",
    "    for char in end_illegal:\n",
    "        while x[-1] == char:  # strip off illegal end characters\n",
    "            x = x[:-1]\n",
    "        \n",
    "    \n",
    "    for char in illegal:\n",
    "        if char in x:  # strip off overall illegal characters\n",
    "            x = x.replace(char, \"\")\n",
    "        \n",
    "    for char in impute_chars: # impute certain characters\n",
    "        x = x.replace(char, \"-\")\n",
    "    return x + \".jpg\"  "
   ]
  },
  {
   "cell_type": "code",
   "execution_count": 31,
   "metadata": {},
   "outputs": [],
   "source": [
    "captions_copy['file_path'] = captions_copy['image'].apply(strip_junk)\n",
    "captions_copy['full_caption'] = breakpoint_captions\n",
    "captions_copy['full_padded_caption'] = pd.Series((cap for cap in tokenized_captions))"
   ]
  },
  {
   "cell_type": "code",
   "execution_count": 32,
   "metadata": {},
   "outputs": [],
   "source": [
    "# fill out csv\n",
    "captions_copy['file_path'] = captions_copy['image'].apply(strip_junk)\n",
    "captions_copy['full_caption'] = breakpoint_captions\n",
    "captions_copy['full_padded_caption'] = pd.Series((cap for cap in tokenized_captions))"
   ]
  },
  {
   "cell_type": "code",
   "execution_count": 33,
   "metadata": {},
   "outputs": [
    {
     "name": "stdout",
     "output_type": "stream",
     "text": [
      "writing total_bytes=315179352...\n",
      "writing bytes [0, 315179352)... done.\n"
     ]
    }
   ],
   "source": [
    "out_file = \"processed_data.pkl\"\n",
    "out_objs = (embedding, idx2word, word2idx, captions_copy)\n",
    "pickle_dump(out_objs, out_file)"
   ]
  },
  {
   "cell_type": "markdown",
   "metadata": {},
   "source": [
    "---"
   ]
  }
 ],
 "metadata": {
  "kernelspec": {
   "display_name": "Python 3",
   "language": "python",
   "name": "python3"
  },
  "language_info": {
   "codemirror_mode": {
    "name": "ipython",
    "version": 3
   },
   "file_extension": ".py",
   "mimetype": "text/x-python",
   "name": "python",
   "nbconvert_exporter": "python",
   "pygments_lexer": "ipython3",
   "version": "3.6.7"
  }
 },
 "nbformat": 4,
 "nbformat_minor": 2
}
