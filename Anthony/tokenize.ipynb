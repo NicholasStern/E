{
 "cells": [
  {
   "cell_type": "markdown",
   "metadata": {},
   "source": [
    "# 0. Set up"
   ]
  },
  {
   "cell_type": "code",
   "execution_count": 1,
   "metadata": {},
   "outputs": [],
   "source": [
    "import numpy as np\n",
    "import pandas as pd\n",
    "from nltk.tokenize import RegexpTokenizer\n",
    "import pickle\n",
    "from pickle_utils import pickle_load, pickle_dump\n",
    "from loadGlove import loadGloveModel"
   ]
  },
  {
   "cell_type": "code",
   "execution_count": 2,
   "metadata": {},
   "outputs": [
    {
     "name": "stdout",
     "output_type": "stream",
     "text": [
      "Skipping bad lines - return to this later\n",
      "(155392, 3)\n"
     ]
    },
    {
     "data": {
      "text/html": [
       "<div>\n",
       "<style scoped>\n",
       "    .dataframe tbody tr th:only-of-type {\n",
       "        vertical-align: middle;\n",
       "    }\n",
       "\n",
       "    .dataframe tbody tr th {\n",
       "        vertical-align: top;\n",
       "    }\n",
       "\n",
       "    .dataframe thead th {\n",
       "        text-align: right;\n",
       "    }\n",
       "</style>\n",
       "<table border=\"1\" class=\"dataframe\">\n",
       "  <thead>\n",
       "    <tr style=\"text-align: right;\">\n",
       "      <th></th>\n",
       "      <th>image</th>\n",
       "      <th>above_text</th>\n",
       "      <th>below_text</th>\n",
       "    </tr>\n",
       "  </thead>\n",
       "  <tbody>\n",
       "    <tr>\n",
       "      <th>54053</th>\n",
       "      <td>My Precious Gollum</td>\n",
       "      <td>Hello TARA...</td>\n",
       "      <td>HELLO PRECIOUS</td>\n",
       "    </tr>\n",
       "    <tr>\n",
       "      <th>67160</th>\n",
       "      <td>Ecstatic Michael Phelps</td>\n",
       "      <td>tHERE'S A POT OF THE STUFF?</td>\n",
       "      <td>i LOVE POT.</td>\n",
       "    </tr>\n",
       "    <tr>\n",
       "      <th>49626</th>\n",
       "      <td>katt williams shocked</td>\n",
       "      <td>What</td>\n",
       "      <td>you actually thought you were getting rp?</td>\n",
       "    </tr>\n",
       "    <tr>\n",
       "      <th>9727</th>\n",
       "      <td>Okay Guy</td>\n",
       "      <td>TOOK AN ARROW TO THE KNEE</td>\n",
       "      <td>OKAY..</td>\n",
       "    </tr>\n",
       "    <tr>\n",
       "      <th>22047</th>\n",
       "      <td>Rich Men Laughing</td>\n",
       "      <td>and then we told them</td>\n",
       "      <td>their health insurance premiums wouldnt go up</td>\n",
       "    </tr>\n",
       "    <tr>\n",
       "      <th>150193</th>\n",
       "      <td>kim jong un</td>\n",
       "      <td>they see me rulin'</td>\n",
       "      <td>they hatin'</td>\n",
       "    </tr>\n",
       "    <tr>\n",
       "      <th>121915</th>\n",
       "      <td>The Olympic Queen</td>\n",
       "      <td>vodka</td>\n",
       "      <td>NaN</td>\n",
       "    </tr>\n",
       "    <tr>\n",
       "      <th>132328</th>\n",
       "      <td>Paperclip</td>\n",
       "      <td>it looks like you're having trouble</td>\n",
       "      <td>fapping to this meme</td>\n",
       "    </tr>\n",
       "    <tr>\n",
       "      <th>120444</th>\n",
       "      <td>Honey BooBoo</td>\n",
       "      <td>happy birthday</td>\n",
       "      <td>ali boo boo</td>\n",
       "    </tr>\n",
       "    <tr>\n",
       "      <th>15655</th>\n",
       "      <td>Not sure if troll</td>\n",
       "      <td>not sure if nicki minaj</td>\n",
       "      <td>or a mutant from mortal combat</td>\n",
       "    </tr>\n",
       "  </tbody>\n",
       "</table>\n",
       "</div>"
      ],
      "text/plain": [
       "                          image                           above_text  \\\n",
       "54053        My Precious Gollum                        Hello TARA...   \n",
       "67160   Ecstatic Michael Phelps          tHERE'S A POT OF THE STUFF?   \n",
       "49626     katt williams shocked                                 What   \n",
       "9727                   Okay Guy            TOOK AN ARROW TO THE KNEE   \n",
       "22047         Rich Men Laughing                and then we told them   \n",
       "150193              kim jong un                   they see me rulin'   \n",
       "121915        The Olympic Queen                                vodka   \n",
       "132328                Paperclip  it looks like you're having trouble   \n",
       "120444             Honey BooBoo                       happy birthday   \n",
       "15655         Not sure if troll              not sure if nicki minaj   \n",
       "\n",
       "                                           below_text  \n",
       "54053                                  HELLO PRECIOUS  \n",
       "67160                                     i LOVE POT.  \n",
       "49626       you actually thought you were getting rp?  \n",
       "9727                                           OKAY..  \n",
       "22047   their health insurance premiums wouldnt go up  \n",
       "150193                                    they hatin'  \n",
       "121915                                            NaN  \n",
       "132328                           fapping to this meme  \n",
       "120444                                    ali boo boo  \n",
       "15655                  or a mutant from mortal combat  "
      ]
     },
     "execution_count": 2,
     "metadata": {},
     "output_type": "execute_result"
    }
   ],
   "source": [
    "captions = pd.read_csv(\"captions.csv\", error_bad_lines=False, warn_bad_lines=False)\n",
    "print(\"Skipping bad lines - return to this later\")\n",
    "print(captions.shape)\n",
    "captions.sample(10, random_state=22)"
   ]
  },
  {
   "cell_type": "markdown",
   "metadata": {},
   "source": [
    "# 1. Load GloVe and save objects for later use"
   ]
  },
  {
   "cell_type": "code",
   "execution_count": 3,
   "metadata": {},
   "outputs": [],
   "source": [
    "glove_objs = loadGloveModel(\"glove.txt\")"
   ]
  },
  {
   "cell_type": "code",
   "execution_count": null,
   "metadata": {},
   "outputs": [],
   "source": [
    "glove_index_dict = glove_objs[0]\n",
    "glove_embedding_weights = glove_objs[1]"
   ]
  },
  {
   "cell_type": "code",
   "execution_count": 5,
   "metadata": {},
   "outputs": [
    {
     "data": {
      "text/plain": [
       "(1917494, (1917494, 300))"
      ]
     },
     "execution_count": 5,
     "metadata": {},
     "output_type": "execute_result"
    }
   ],
   "source": [
    "len(glove_index_dict), glove_embedding_weights.shape"
   ]
  },
  {
   "cell_type": "code",
   "execution_count": null,
   "metadata": {},
   "outputs": [],
   "source": [
    "# pickle_dump(glove_objs, \"glove_objs.pkl\")\n",
    "# pickle_load(\"glove_objs.pkl\")"
   ]
  },
  {
   "cell_type": "markdown",
   "metadata": {},
   "source": [
    "# 2. Clean captions and labels"
   ]
  },
  {
   "cell_type": "markdown",
   "metadata": {},
   "source": [
    "## a. Remove where there are NaNs in the captions or labels"
   ]
  },
  {
   "cell_type": "code",
   "execution_count": null,
   "metadata": {},
   "outputs": [],
   "source": [
    "np.sum(pd.isna(captions))"
   ]
  },
  {
   "cell_type": "code",
   "execution_count": null,
   "metadata": {},
   "outputs": [],
   "source": [
    "captions.iloc[np.where(pd.isna(captions.image))]"
   ]
  },
  {
   "cell_type": "code",
   "execution_count": null,
   "metadata": {},
   "outputs": [],
   "source": [
    "captions = captions[pd.notnull(captions.image)]\n",
    "captions = captions.replace(np.nan, '', regex=True)"
   ]
  },
  {
   "cell_type": "code",
   "execution_count": null,
   "metadata": {},
   "outputs": [],
   "source": [
    "np.sum(pd.isna(captions))"
   ]
  },
  {
   "cell_type": "markdown",
   "metadata": {},
   "source": [
    "## b. Everything to lower"
   ]
  },
  {
   "cell_type": "code",
   "execution_count": null,
   "metadata": {},
   "outputs": [],
   "source": [
    "captions['image'] = captions['image'].str.lower()\n",
    "captions['above_text'] = captions['above_text'].str.lower()\n",
    "captions['below_text'] = captions['below_text'].str.lower()"
   ]
  },
  {
   "cell_type": "code",
   "execution_count": null,
   "metadata": {},
   "outputs": [],
   "source": [
    "captions.sample(10, random_state=33)"
   ]
  },
  {
   "cell_type": "markdown",
   "metadata": {},
   "source": [
    "## c. Next"
   ]
  },
  {
   "cell_type": "code",
   "execution_count": null,
   "metadata": {},
   "outputs": [],
   "source": []
  },
  {
   "cell_type": "code",
   "execution_count": null,
   "metadata": {},
   "outputs": [],
   "source": []
  },
  {
   "cell_type": "code",
   "execution_count": null,
   "metadata": {},
   "outputs": [],
   "source": []
  },
  {
   "cell_type": "code",
   "execution_count": null,
   "metadata": {},
   "outputs": [],
   "source": []
  },
  {
   "cell_type": "code",
   "execution_count": null,
   "metadata": {},
   "outputs": [],
   "source": []
  },
  {
   "cell_type": "markdown",
   "metadata": {},
   "source": [
    "# 3. Creating word mappings\n",
    "\n",
    "Structure borrowed from Harvard IACS 2019 ComputeFest [code](https://github.com/Harvard-IACS/2019-computefest/blob/master/Friday/data_preprocess.ipnb.ipynb)."
   ]
  },
  {
   "cell_type": "code",
   "execution_count": null,
   "metadata": {},
   "outputs": [],
   "source": [
    "empty = 0 # RNN mask of no data\n",
    "eos = 1  # end of sentence\n",
    "start_idx = eos+1 # first real word\n",
    "\n",
    "def get_idx(vocab, vocabcount):\n",
    "    word2idx = dict((word, idx+start_idx) for idx,word in enumerate(vocab))\n",
    "    word2idx['<empty>'] = empty\n",
    "    word2idx['<eos>'] = eos\n",
    "    \n",
    "    idx2word = dict((idx,word) for word,idx in word2idx.items())\n",
    "\n",
    "    return word2idx, idx2word"
   ]
  },
  {
   "cell_type": "code",
   "execution_count": null,
   "metadata": {},
   "outputs": [],
   "source": [
    "# word2idx, idx2word = get_idx(vocab, vocabcount)"
   ]
  }
 ],
 "metadata": {
  "kernelspec": {
   "display_name": "Python 3",
   "language": "python",
   "name": "python3"
  },
  "language_info": {
   "codemirror_mode": {
    "name": "ipython",
    "version": 3
   },
   "file_extension": ".py",
   "mimetype": "text/x-python",
   "name": "python",
   "nbconvert_exporter": "python",
   "pygments_lexer": "ipython3",
   "version": "3.6.7"
  }
 },
 "nbformat": 4,
 "nbformat_minor": 2
}
