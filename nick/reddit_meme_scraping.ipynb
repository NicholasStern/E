{
 "cells": [
  {
   "cell_type": "markdown",
   "metadata": {},
   "source": [
    "# Scraping Memes from Reddit"
   ]
  },
  {
   "cell_type": "markdown",
   "metadata": {},
   "source": [
    "This notebook uses the PRAW API to get images from Reddit"
   ]
  },
  {
   "cell_type": "code",
   "execution_count": 34,
   "metadata": {},
   "outputs": [],
   "source": [
    "# To install the PRAW API, first run \"pip install praw\"\n",
    "import praw\n",
    "import urllib.request"
   ]
  },
  {
   "cell_type": "code",
   "execution_count": 3,
   "metadata": {},
   "outputs": [],
   "source": [
    "client_id = 'mXYNmH6kCiB7Yw'\n",
    "client_secret = '18u_DxmAo1SQ05ufwePa-UJY62I'  # protect this!\n",
    "user_agent = 'Macbook Pro:meme_scraper:0.0.1 (by /u/sternmoose)'\n",
    "reddit = praw.Reddit(client_id=client_id,\n",
    "                     client_secret=client_secret,\n",
    "                     user_agent=user_agent)"
   ]
  },
  {
   "cell_type": "code",
   "execution_count": 38,
   "metadata": {},
   "outputs": [
    {
     "name": "stdout",
     "output_type": "stream",
     "text": [
      "https://i.redd.it/1t9eb37befu21.jpg\n",
      "https://i.redd.it/8tl5ttzqzbu21.jpg\n",
      "https://i.redd.it/6abrit4w3fu21.jpg\n",
      "https://i.redd.it/19x3vovrqeu21.jpg\n",
      "https://i.redd.it/ru53nivpkhu21.jpg\n",
      "https://i.redd.it/8d9rz6h18cu21.jpg\n",
      "https://i.redd.it/b4pvk6ecvdu21.jpg\n",
      "https://i.redd.it/livgou3iseu21.jpg\n",
      "https://i.redd.it/46fv4z9idfu21.jpg\n",
      "https://live.staticflickr.com/65535/47693108581_444c4eca22_o.jpg\n"
     ]
    }
   ],
   "source": [
    "# Saves image in local folder\n",
    "filepath = 'reddit_images/'\n",
    "\n",
    "subreddit = reddit.subreddit('EarthPorn')\n",
    "posts = subreddit.top(time_filter='day', limit=10)\n",
    "\n",
    "for post in posts:\n",
    "    url = post.url\n",
    "    print(url)\n",
    "    urllib.request.urlretrieve(url, filepath+url.split('/')[-1])"
   ]
  }
 ],
 "metadata": {
  "kernelspec": {
   "display_name": "Python 3",
   "language": "python",
   "name": "python3"
  },
  "language_info": {
   "codemirror_mode": {
    "name": "ipython",
    "version": 3
   },
   "file_extension": ".py",
   "mimetype": "text/x-python",
   "name": "python",
   "nbconvert_exporter": "python",
   "pygments_lexer": "ipython3",
   "version": "3.7.1"
  }
 },
 "nbformat": 4,
 "nbformat_minor": 2
}
